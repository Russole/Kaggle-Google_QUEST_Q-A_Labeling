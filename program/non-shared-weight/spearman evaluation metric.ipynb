{
 "cells": [
  {
   "cell_type": "code",
   "execution_count": 2,
   "metadata": {},
   "outputs": [],
   "source": [
    "from scipy import stats"
   ]
  },
  {
   "cell_type": "code",
   "execution_count": 3,
   "metadata": {},
   "outputs": [
    {
     "name": "stdout",
     "output_type": "stream",
     "text": [
      "SpearmanrResult(correlation=1.0, pvalue=0.0) 1.0\n",
      "SpearmanrResult(correlation=1.0, pvalue=0.0) 1.0\n"
     ]
    }
   ],
   "source": [
    "import numpy as np\n",
    "def print_spearmanr(a, b):\n",
    "    v = stats.spearmanr(a, b)\n",
    "    print(v, v.correlation)\n",
    "\n",
    "a = np.array([0., 1., 2., 3.])\n",
    "b = np.array([0., 1., 2., 3.])\n",
    "print_spearmanr(a, b) # --> 1.\n",
    "\n",
    "b2 = np.array([4., 5., 6., 7.])\n",
    "print_spearmanr(a, b2)  # --> 1."
   ]
  },
  {
   "cell_type": "code",
   "execution_count": 7,
   "metadata": {},
   "outputs": [
    {
     "name": "stdout",
     "output_type": "stream",
     "text": [
      "SpearmanrResult(correlation=1.0, pvalue=0.0) 1.0\n",
      "SpearmanrResult(correlation=1.0, pvalue=0.0) 1.0\n"
     ]
    }
   ],
   "source": [
    "a = np.array([0.5, 0.5, 0.7, 0.7])\n",
    "#b = np.array([4., 5., 6., 7.])\n",
    "b = np.array([3., 3., 4., 4.])\n",
    "print_spearmanr(a, b) # --> 0.89\n",
    "\n",
    "b2 = np.array([4., 4., 6., 6.])\n",
    "print_spearmanr(a, b2) # --> 1."
   ]
  }
 ],
 "metadata": {
  "kernelspec": {
   "display_name": "contrastive_learning2",
   "language": "python",
   "name": "python3"
  },
  "language_info": {
   "codemirror_mode": {
    "name": "ipython",
    "version": 3
   },
   "file_extension": ".py",
   "mimetype": "text/x-python",
   "name": "python",
   "nbconvert_exporter": "python",
   "pygments_lexer": "ipython3",
   "version": "3.7.15"
  },
  "orig_nbformat": 4
 },
 "nbformat": 4,
 "nbformat_minor": 2
}
